{
 "cells": [
  {
   "cell_type": "markdown",
   "metadata": {},
   "source": [
    "### 유방암 과제 \n",
    "- 차원축소 ) 2,5,10 차원으로 \n",
    "- 분류정확도 비교 ) 원본,2,5,10\n",
    "- 2차원은 시각화 \n",
    "- 군집화 \n"
   ]
  },
  {
   "cell_type": "code",
   "execution_count": null,
   "metadata": {},
   "outputs": [],
   "source": []
  }
 ],
 "metadata": {
  "language_info": {
   "name": "python"
  },
  "orig_nbformat": 4
 },
 "nbformat": 4,
 "nbformat_minor": 2
}
